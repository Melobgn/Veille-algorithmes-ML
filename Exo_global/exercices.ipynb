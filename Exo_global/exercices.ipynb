{
 "cells": [
  {
   "cell_type": "markdown",
   "metadata": {},
   "source": [
    "# Exercices"
   ]
  },
  {
   "cell_type": "markdown",
   "metadata": {},
   "source": [
    "## Exercice ACP"
   ]
  },
  {
   "cell_type": "code",
   "execution_count": 27,
   "metadata": {},
   "outputs": [],
   "source": [
    "# Pour Kévin"
   ]
  },
  {
   "cell_type": "code",
   "execution_count": 6,
   "metadata": {},
   "outputs": [
    {
     "data": {
      "text/html": [
       "<div>\n",
       "<style scoped>\n",
       "    .dataframe tbody tr th:only-of-type {\n",
       "        vertical-align: middle;\n",
       "    }\n",
       "\n",
       "    .dataframe tbody tr th {\n",
       "        vertical-align: top;\n",
       "    }\n",
       "\n",
       "    .dataframe thead th {\n",
       "        text-align: right;\n",
       "    }\n",
       "</style>\n",
       "<table border=\"1\" class=\"dataframe\">\n",
       "  <thead>\n",
       "    <tr style=\"text-align: right;\">\n",
       "      <th></th>\n",
       "      <th>is_genuine</th>\n",
       "      <th>diagonal</th>\n",
       "      <th>height_left</th>\n",
       "      <th>height_right</th>\n",
       "      <th>margin_low</th>\n",
       "      <th>margin_up</th>\n",
       "      <th>length</th>\n",
       "    </tr>\n",
       "  </thead>\n",
       "  <tbody>\n",
       "    <tr>\n",
       "      <th>0</th>\n",
       "      <td>True</td>\n",
       "      <td>171.81</td>\n",
       "      <td>104.86</td>\n",
       "      <td>104.95</td>\n",
       "      <td>4.52</td>\n",
       "      <td>2.89</td>\n",
       "      <td>112.83</td>\n",
       "    </tr>\n",
       "    <tr>\n",
       "      <th>1</th>\n",
       "      <td>True</td>\n",
       "      <td>171.46</td>\n",
       "      <td>103.36</td>\n",
       "      <td>103.66</td>\n",
       "      <td>3.77</td>\n",
       "      <td>2.99</td>\n",
       "      <td>113.09</td>\n",
       "    </tr>\n",
       "    <tr>\n",
       "      <th>2</th>\n",
       "      <td>True</td>\n",
       "      <td>172.69</td>\n",
       "      <td>104.48</td>\n",
       "      <td>103.50</td>\n",
       "      <td>4.40</td>\n",
       "      <td>2.94</td>\n",
       "      <td>113.16</td>\n",
       "    </tr>\n",
       "    <tr>\n",
       "      <th>3</th>\n",
       "      <td>True</td>\n",
       "      <td>171.36</td>\n",
       "      <td>103.91</td>\n",
       "      <td>103.94</td>\n",
       "      <td>3.62</td>\n",
       "      <td>3.01</td>\n",
       "      <td>113.51</td>\n",
       "    </tr>\n",
       "    <tr>\n",
       "      <th>4</th>\n",
       "      <td>True</td>\n",
       "      <td>171.73</td>\n",
       "      <td>104.28</td>\n",
       "      <td>103.46</td>\n",
       "      <td>4.04</td>\n",
       "      <td>3.48</td>\n",
       "      <td>112.54</td>\n",
       "    </tr>\n",
       "    <tr>\n",
       "      <th>...</th>\n",
       "      <td>...</td>\n",
       "      <td>...</td>\n",
       "      <td>...</td>\n",
       "      <td>...</td>\n",
       "      <td>...</td>\n",
       "      <td>...</td>\n",
       "      <td>...</td>\n",
       "    </tr>\n",
       "    <tr>\n",
       "      <th>1495</th>\n",
       "      <td>False</td>\n",
       "      <td>171.75</td>\n",
       "      <td>104.38</td>\n",
       "      <td>104.17</td>\n",
       "      <td>4.42</td>\n",
       "      <td>3.09</td>\n",
       "      <td>111.28</td>\n",
       "    </tr>\n",
       "    <tr>\n",
       "      <th>1496</th>\n",
       "      <td>False</td>\n",
       "      <td>172.19</td>\n",
       "      <td>104.63</td>\n",
       "      <td>104.44</td>\n",
       "      <td>5.27</td>\n",
       "      <td>3.37</td>\n",
       "      <td>110.97</td>\n",
       "    </tr>\n",
       "    <tr>\n",
       "      <th>1497</th>\n",
       "      <td>False</td>\n",
       "      <td>171.80</td>\n",
       "      <td>104.01</td>\n",
       "      <td>104.12</td>\n",
       "      <td>5.51</td>\n",
       "      <td>3.36</td>\n",
       "      <td>111.95</td>\n",
       "    </tr>\n",
       "    <tr>\n",
       "      <th>1498</th>\n",
       "      <td>False</td>\n",
       "      <td>172.06</td>\n",
       "      <td>104.28</td>\n",
       "      <td>104.06</td>\n",
       "      <td>5.17</td>\n",
       "      <td>3.46</td>\n",
       "      <td>112.25</td>\n",
       "    </tr>\n",
       "    <tr>\n",
       "      <th>1499</th>\n",
       "      <td>False</td>\n",
       "      <td>171.47</td>\n",
       "      <td>104.15</td>\n",
       "      <td>103.82</td>\n",
       "      <td>4.63</td>\n",
       "      <td>3.37</td>\n",
       "      <td>112.07</td>\n",
       "    </tr>\n",
       "  </tbody>\n",
       "</table>\n",
       "<p>1500 rows × 7 columns</p>\n",
       "</div>"
      ],
      "text/plain": [
       "      is_genuine  diagonal  height_left  height_right  margin_low  margin_up  \\\n",
       "0           True    171.81       104.86        104.95        4.52       2.89   \n",
       "1           True    171.46       103.36        103.66        3.77       2.99   \n",
       "2           True    172.69       104.48        103.50        4.40       2.94   \n",
       "3           True    171.36       103.91        103.94        3.62       3.01   \n",
       "4           True    171.73       104.28        103.46        4.04       3.48   \n",
       "...          ...       ...          ...           ...         ...        ...   \n",
       "1495       False    171.75       104.38        104.17        4.42       3.09   \n",
       "1496       False    172.19       104.63        104.44        5.27       3.37   \n",
       "1497       False    171.80       104.01        104.12        5.51       3.36   \n",
       "1498       False    172.06       104.28        104.06        5.17       3.46   \n",
       "1499       False    171.47       104.15        103.82        4.63       3.37   \n",
       "\n",
       "      length  \n",
       "0     112.83  \n",
       "1     113.09  \n",
       "2     113.16  \n",
       "3     113.51  \n",
       "4     112.54  \n",
       "...      ...  \n",
       "1495  111.28  \n",
       "1496  110.97  \n",
       "1497  111.95  \n",
       "1498  112.25  \n",
       "1499  112.07  \n",
       "\n",
       "[1500 rows x 7 columns]"
      ]
     },
     "metadata": {},
     "output_type": "display_data"
    },
    {
     "data": {
      "text/html": [
       "<div>\n",
       "<style scoped>\n",
       "    .dataframe tbody tr th:only-of-type {\n",
       "        vertical-align: middle;\n",
       "    }\n",
       "\n",
       "    .dataframe tbody tr th {\n",
       "        vertical-align: top;\n",
       "    }\n",
       "\n",
       "    .dataframe thead th {\n",
       "        text-align: right;\n",
       "    }\n",
       "</style>\n",
       "<table border=\"1\" class=\"dataframe\">\n",
       "  <thead>\n",
       "    <tr style=\"text-align: right;\">\n",
       "      <th></th>\n",
       "      <th>PC1</th>\n",
       "      <th>PC2</th>\n",
       "      <th>PC3</th>\n",
       "      <th>PC4</th>\n",
       "      <th>PC5</th>\n",
       "      <th>PC6</th>\n",
       "    </tr>\n",
       "  </thead>\n",
       "  <tbody>\n",
       "    <tr>\n",
       "      <th>0</th>\n",
       "      <td>1.627035</td>\n",
       "      <td>0.807294</td>\n",
       "      <td>2.192500</td>\n",
       "      <td>3.328620</td>\n",
       "      <td>0.328611</td>\n",
       "      <td>0.002057</td>\n",
       "    </tr>\n",
       "    <tr>\n",
       "      <th>1</th>\n",
       "      <td>-2.017133</td>\n",
       "      <td>-2.217975</td>\n",
       "      <td>-1.011861</td>\n",
       "      <td>0.043402</td>\n",
       "      <td>0.043670</td>\n",
       "      <td>-0.468112</td>\n",
       "    </tr>\n",
       "    <tr>\n",
       "      <th>2</th>\n",
       "      <td>-0.996369</td>\n",
       "      <td>2.596334</td>\n",
       "      <td>1.241833</td>\n",
       "      <td>-0.878880</td>\n",
       "      <td>-0.868951</td>\n",
       "      <td>0.184537</td>\n",
       "    </tr>\n",
       "    <tr>\n",
       "      <th>3</th>\n",
       "      <td>-1.379560</td>\n",
       "      <td>-1.809941</td>\n",
       "      <td>0.594839</td>\n",
       "      <td>0.890183</td>\n",
       "      <td>0.805023</td>\n",
       "      <td>-0.213295</td>\n",
       "    </tr>\n",
       "    <tr>\n",
       "      <th>4</th>\n",
       "      <td>0.138409</td>\n",
       "      <td>-0.597355</td>\n",
       "      <td>0.976431</td>\n",
       "      <td>-1.737647</td>\n",
       "      <td>1.147098</td>\n",
       "      <td>-0.295813</td>\n",
       "    </tr>\n",
       "    <tr>\n",
       "      <th>...</th>\n",
       "      <td>...</td>\n",
       "      <td>...</td>\n",
       "      <td>...</td>\n",
       "      <td>...</td>\n",
       "      <td>...</td>\n",
       "      <td>...</td>\n",
       "    </tr>\n",
       "    <tr>\n",
       "      <th>1495</th>\n",
       "      <td>1.415019</td>\n",
       "      <td>-0.260032</td>\n",
       "      <td>0.912233</td>\n",
       "      <td>0.600323</td>\n",
       "      <td>-0.236258</td>\n",
       "      <td>-1.315906</td>\n",
       "    </tr>\n",
       "    <tr>\n",
       "      <th>1496</th>\n",
       "      <td>3.261672</td>\n",
       "      <td>1.330325</td>\n",
       "      <td>0.601857</td>\n",
       "      <td>0.367258</td>\n",
       "      <td>-0.106580</td>\n",
       "      <td>-0.546738</td>\n",
       "    </tr>\n",
       "    <tr>\n",
       "      <th>1497</th>\n",
       "      <td>1.878843</td>\n",
       "      <td>-0.599267</td>\n",
       "      <td>-0.532782</td>\n",
       "      <td>-0.117704</td>\n",
       "      <td>-0.297130</td>\n",
       "      <td>0.497393</td>\n",
       "    </tr>\n",
       "    <tr>\n",
       "      <th>1498</th>\n",
       "      <td>1.775458</td>\n",
       "      <td>0.506379</td>\n",
       "      <td>0.067710</td>\n",
       "      <td>-0.483507</td>\n",
       "      <td>0.344075</td>\n",
       "      <td>0.523804</td>\n",
       "    </tr>\n",
       "    <tr>\n",
       "      <th>1499</th>\n",
       "      <td>1.034097</td>\n",
       "      <td>-1.480706</td>\n",
       "      <td>0.534495</td>\n",
       "      <td>-0.633106</td>\n",
       "      <td>0.474899</td>\n",
       "      <td>-0.231662</td>\n",
       "    </tr>\n",
       "  </tbody>\n",
       "</table>\n",
       "<p>1463 rows × 6 columns</p>\n",
       "</div>"
      ],
      "text/plain": [
       "           PC1       PC2       PC3       PC4       PC5       PC6\n",
       "0     1.627035  0.807294  2.192500  3.328620  0.328611  0.002057\n",
       "1    -2.017133 -2.217975 -1.011861  0.043402  0.043670 -0.468112\n",
       "2    -0.996369  2.596334  1.241833 -0.878880 -0.868951  0.184537\n",
       "3    -1.379560 -1.809941  0.594839  0.890183  0.805023 -0.213295\n",
       "4     0.138409 -0.597355  0.976431 -1.737647  1.147098 -0.295813\n",
       "...        ...       ...       ...       ...       ...       ...\n",
       "1495  1.415019 -0.260032  0.912233  0.600323 -0.236258 -1.315906\n",
       "1496  3.261672  1.330325  0.601857  0.367258 -0.106580 -0.546738\n",
       "1497  1.878843 -0.599267 -0.532782 -0.117704 -0.297130  0.497393\n",
       "1498  1.775458  0.506379  0.067710 -0.483507  0.344075  0.523804\n",
       "1499  1.034097 -1.480706  0.534495 -0.633106  0.474899 -0.231662\n",
       "\n",
       "[1463 rows x 6 columns]"
      ]
     },
     "execution_count": 6,
     "metadata": {},
     "output_type": "execute_result"
    }
   ],
   "source": [
    "import pandas as pd\n",
    "import matplotlib.pyplot as plt\n",
    "import numpy as np\n",
    "from sklearn import decomposition, preprocessing\n",
    "\n",
    "data = pd.read_csv(\"billets.csv\", sep=\";\")\n",
    "display(data)\n",
    "data = data.dropna()\n",
    "\n",
    "standard_scaler = preprocessing.StandardScaler()\n",
    "\n",
    "billets_data = standard_scaler.fit_transform(data[data.columns[1:]])\n",
    "\n",
    "pca = decomposition.PCA()\n",
    "billets_pca = pca.fit_transform(billets_data)\n",
    "\n",
    "billetspca = pd.DataFrame(billets_pca, index=data.index, columns=[\"PC\"+str(i+1) for i in range(6)])\n",
    "billetspca"
   ]
  },
  {
   "cell_type": "code",
   "execution_count": 29,
   "metadata": {},
   "outputs": [
    {
     "data": {
      "text/plain": [
       "array([0.43123527, 0.16970651, 0.13136423, 0.11792169, 0.0962036 ,\n",
       "       0.0535687 ])"
      ]
     },
     "execution_count": 29,
     "metadata": {},
     "output_type": "execute_result"
    }
   ],
   "source": [
    "pca.explained_variance_ratio_"
   ]
  },
  {
   "cell_type": "code",
   "execution_count": 8,
   "metadata": {},
   "outputs": [
    {
     "data": {
      "text/plain": [
       "array([43.12, 16.97, 13.14, 11.79,  9.62,  5.36])"
      ]
     },
     "execution_count": 8,
     "metadata": {},
     "output_type": "execute_result"
    }
   ],
   "source": [
    "scree = (pca.explained_variance_ratio_*100).round(2)\n",
    "scree"
   ]
  },
  {
   "cell_type": "code",
   "execution_count": 10,
   "metadata": {},
   "outputs": [
    {
     "data": {
      "text/plain": [
       "array([ 43.,  60.,  73.,  85.,  95., 100.])"
      ]
     },
     "execution_count": 10,
     "metadata": {},
     "output_type": "execute_result"
    }
   ],
   "source": [
    "scree_cum = scree.cumsum().round()\n",
    "scree_cum"
   ]
  },
  {
   "cell_type": "code",
   "execution_count": 14,
   "metadata": {},
   "outputs": [
    {
     "data": {
      "image/png": "[encoded data removed]",
      "text/plain": [
       "<Figure size 1000x500 with 1 Axes>"
      ]
     },
     "metadata": {},
     "output_type": "display_data"
    }
   ],
   "source": [
    "import matplotlib as cm\n",
    "\n",
    "n_components = 6\n",
    "x_list = ['PC'+str(i) for i in range(1,len(pca.explained_variance_ratio_)+1)]\n",
    "\n",
    "\n",
    "plt.figure(figsize = (10,5))\n",
    "plt.bar(x_list, scree, color=plt.get_cmap('Blues')(0.6))\n",
    "plt.plot(x_list, scree_cum,c=\"black\",marker='o')\n",
    "plt.xlabel(\"rang de l'axe d'inertie\")\n",
    "plt.ylabel(\"pourcentage d'inertie\")\n",
    "plt.title(\"Eboulis des valeurs propres\")\n",
    "plt.show(block=False)"
   ]
  },
  {
   "cell_type": "code",
   "execution_count": 16,
   "metadata": {},
   "outputs": [
    {
     "data": {
      "text/plain": [
       "(6, 6)"
      ]
     },
     "execution_count": 16,
     "metadata": {},
     "output_type": "execute_result"
    }
   ],
   "source": [
    "pca.components_.shape"
   ]
  },
  {
   "cell_type": "code",
   "execution_count": 33,
   "metadata": {},
   "outputs": [
    {
     "data": {
      "image/png": "[encoded data removed]",
      "text/plain": [
       "<Figure size 1000x900 with 1 Axes>"
      ]
     },
     "metadata": {},
     "output_type": "display_data"
    }
   ],
   "source": [
    "features = data[data.columns[1:]].columns\n",
    "x, y = 0,1\n",
    "\n",
    "fig, ax = plt.subplots(figsize=(10, 9))\n",
    "for i in range(0, pca.components_.shape[1]):\n",
    "    ax.arrow(0,\n",
    "             0,  # Start the arrow at the origin\n",
    "             pca.components_[0, i],  #0 for PC1\n",
    "             pca.components_[1, i],  #1 for PC2\n",
    "             head_width=0.07,\n",
    "             head_length=0.07, \n",
    "             width=0.02,              )\n",
    "\n",
    "    plt.text(pca.components_[0, i] + 0.05,\n",
    "             pca.components_[1, i] + 0.05,\n",
    "             features[i])\n",
    "    \n",
    "# affichage des lignes horizontales et verticales\n",
    "plt.plot([-1, 1], [0, 0], color='grey', ls='--')\n",
    "plt.plot([0, 0], [-1, 1], color='grey', ls='--')\n",
    "\n",
    "\n",
    "# nom des axes, avec le pourcentage d'inertie expliqué\n",
    "plt.xlabel('F{} ({}%)'.format(x+1, round(100*pca.explained_variance_ratio_[x],1)))\n",
    "plt.ylabel('F{} ({}%)'.format(y+1, round(100*pca.explained_variance_ratio_[y],1)))\n",
    "\n",
    "plt.title(\"Cercle des corrélations (F{} à F{})\".format(x+1, y+1))\n",
    "\n",
    "\n",
    "an = np.linspace(0, 2 * np.pi, 100)\n",
    "plt.plot(np.cos(an), np.sin(an))  # Add a unit circle for scale\n",
    "plt.axis('equal')\n",
    "plt.show(block=False)"
   ]
  },
  {
   "cell_type": "markdown",
   "metadata": {},
   "source": [
    "## Exercice Pycaret"
   ]
  },
  {
   "cell_type": "markdown",
   "metadata": {},
   "source": [
    "Vous allez à présent détecter de faux billets !"
   ]
  },
  {
   "cell_type": "markdown",
   "metadata": {},
   "source": [
    "Vous aurez à disposition un jeu de données contenant différentes variables :\n",
    "\n",
    "1. **is_genuine** : target, nous dit si le billet est un vrai billet ou non.\n",
    "2. **toutes les autres variables sont des tailles exprimées en cm**"
   ]
  },
  {
   "cell_type": "markdown",
   "metadata": {},
   "source": [
    "1. Préparation des données"
   ]
  },
  {
   "cell_type": "markdown",
   "metadata": {},
   "source": [
    "*N'oubliez pas que Pycaret ne réalise pas toutes les étapes de nettoyage !*"
   ]
  },
  {
   "cell_type": "code",
   "execution_count": 34,
   "metadata": {},
   "outputs": [
    {
     "data": {
      "text/html": [
       "<div>\n",
       "<style scoped>\n",
       "    .dataframe tbody tr th:only-of-type {\n",
       "        vertical-align: middle;\n",
       "    }\n",
       "\n",
       "    .dataframe tbody tr th {\n",
       "        vertical-align: top;\n",
       "    }\n",
       "\n",
       "    .dataframe thead th {\n",
       "        text-align: right;\n",
       "    }\n",
       "</style>\n",
       "<table border=\"1\" class=\"dataframe\">\n",
       "  <thead>\n",
       "    <tr style=\"text-align: right;\">\n",
       "      <th></th>\n",
       "      <th>is_genuine</th>\n",
       "      <th>diagonal</th>\n",
       "      <th>height_left</th>\n",
       "      <th>height_right</th>\n",
       "      <th>margin_low</th>\n",
       "      <th>margin_up</th>\n",
       "      <th>length</th>\n",
       "    </tr>\n",
       "  </thead>\n",
       "  <tbody>\n",
       "    <tr>\n",
       "      <th>0</th>\n",
       "      <td>True</td>\n",
       "      <td>171.81</td>\n",
       "      <td>104.86</td>\n",
       "      <td>104.95</td>\n",
       "      <td>4.52</td>\n",
       "      <td>2.89</td>\n",
       "      <td>112.83</td>\n",
       "    </tr>\n",
       "    <tr>\n",
       "      <th>1</th>\n",
       "      <td>True</td>\n",
       "      <td>171.46</td>\n",
       "      <td>103.36</td>\n",
       "      <td>103.66</td>\n",
       "      <td>3.77</td>\n",
       "      <td>2.99</td>\n",
       "      <td>113.09</td>\n",
       "    </tr>\n",
       "    <tr>\n",
       "      <th>2</th>\n",
       "      <td>True</td>\n",
       "      <td>172.69</td>\n",
       "      <td>104.48</td>\n",
       "      <td>103.50</td>\n",
       "      <td>4.40</td>\n",
       "      <td>2.94</td>\n",
       "      <td>113.16</td>\n",
       "    </tr>\n",
       "    <tr>\n",
       "      <th>3</th>\n",
       "      <td>True</td>\n",
       "      <td>171.36</td>\n",
       "      <td>103.91</td>\n",
       "      <td>103.94</td>\n",
       "      <td>3.62</td>\n",
       "      <td>3.01</td>\n",
       "      <td>113.51</td>\n",
       "    </tr>\n",
       "    <tr>\n",
       "      <th>4</th>\n",
       "      <td>True</td>\n",
       "      <td>171.73</td>\n",
       "      <td>104.28</td>\n",
       "      <td>103.46</td>\n",
       "      <td>4.04</td>\n",
       "      <td>3.48</td>\n",
       "      <td>112.54</td>\n",
       "    </tr>\n",
       "    <tr>\n",
       "      <th>...</th>\n",
       "      <td>...</td>\n",
       "      <td>...</td>\n",
       "      <td>...</td>\n",
       "      <td>...</td>\n",
       "      <td>...</td>\n",
       "      <td>...</td>\n",
       "      <td>...</td>\n",
       "    </tr>\n",
       "    <tr>\n",
       "      <th>1495</th>\n",
       "      <td>False</td>\n",
       "      <td>171.75</td>\n",
       "      <td>104.38</td>\n",
       "      <td>104.17</td>\n",
       "      <td>4.42</td>\n",
       "      <td>3.09</td>\n",
       "      <td>111.28</td>\n",
       "    </tr>\n",
       "    <tr>\n",
       "      <th>1496</th>\n",
       "      <td>False</td>\n",
       "      <td>172.19</td>\n",
       "      <td>104.63</td>\n",
       "      <td>104.44</td>\n",
       "      <td>5.27</td>\n",
       "      <td>3.37</td>\n",
       "      <td>110.97</td>\n",
       "    </tr>\n",
       "    <tr>\n",
       "      <th>1497</th>\n",
       "      <td>False</td>\n",
       "      <td>171.80</td>\n",
       "      <td>104.01</td>\n",
       "      <td>104.12</td>\n",
       "      <td>5.51</td>\n",
       "      <td>3.36</td>\n",
       "      <td>111.95</td>\n",
       "    </tr>\n",
       "    <tr>\n",
       "      <th>1498</th>\n",
       "      <td>False</td>\n",
       "      <td>172.06</td>\n",
       "      <td>104.28</td>\n",
       "      <td>104.06</td>\n",
       "      <td>5.17</td>\n",
       "      <td>3.46</td>\n",
       "      <td>112.25</td>\n",
       "    </tr>\n",
       "    <tr>\n",
       "      <th>1499</th>\n",
       "      <td>False</td>\n",
       "      <td>171.47</td>\n",
       "      <td>104.15</td>\n",
       "      <td>103.82</td>\n",
       "      <td>4.63</td>\n",
       "      <td>3.37</td>\n",
       "      <td>112.07</td>\n",
       "    </tr>\n",
       "  </tbody>\n",
       "</table>\n",
       "<p>1500 rows × 7 columns</p>\n",
       "</div>"
      ],
      "text/plain": [
       "      is_genuine  diagonal  height_left  height_right  margin_low  margin_up  \\\n",
       "0           True    171.81       104.86        104.95        4.52       2.89   \n",
       "1           True    171.46       103.36        103.66        3.77       2.99   \n",
       "2           True    172.69       104.48        103.50        4.40       2.94   \n",
       "3           True    171.36       103.91        103.94        3.62       3.01   \n",
       "4           True    171.73       104.28        103.46        4.04       3.48   \n",
       "...          ...       ...          ...           ...         ...        ...   \n",
       "1495       False    171.75       104.38        104.17        4.42       3.09   \n",
       "1496       False    172.19       104.63        104.44        5.27       3.37   \n",
       "1497       False    171.80       104.01        104.12        5.51       3.36   \n",
       "1498       False    172.06       104.28        104.06        5.17       3.46   \n",
       "1499       False    171.47       104.15        103.82        4.63       3.37   \n",
       "\n",
       "      length  \n",
       "0     112.83  \n",
       "1     113.09  \n",
       "2     113.16  \n",
       "3     113.51  \n",
       "4     112.54  \n",
       "...      ...  \n",
       "1495  111.28  \n",
       "1496  110.97  \n",
       "1497  111.95  \n",
       "1498  112.25  \n",
       "1499  112.07  \n",
       "\n",
       "[1500 rows x 7 columns]"
      ]
     },
     "execution_count": 34,
     "metadata": {},
     "output_type": "execute_result"
    }
   ],
   "source": [
    "import pandas as pd\n",
    "data = pd.read_csv(\"billets.csv\", sep=\";\")\n",
    "data "
   ]
  },
  {
   "cell_type": "markdown",
   "metadata": {},
   "source": [
    "2. Installez et Importez Pycaret "
   ]
  },
  {
   "cell_type": "code",
   "execution_count": null,
   "metadata": {},
   "outputs": [],
   "source": []
  },
  {
   "cell_type": "markdown",
   "metadata": {},
   "source": [
    "3. Créez un environnement Pycaret"
   ]
  },
  {
   "cell_type": "code",
   "execution_count": null,
   "metadata": {},
   "outputs": [],
   "source": []
  },
  {
   "cell_type": "markdown",
   "metadata": {},
   "source": [
    "4. Comparez les modèles et sélectionnez le meilleur"
   ]
  },
  {
   "cell_type": "code",
   "execution_count": null,
   "metadata": {},
   "outputs": [],
   "source": []
  },
  {
   "cell_type": "markdown",
   "metadata": {},
   "source": [
    "5. Effectuez des prévisions sur vos données"
   ]
  },
  {
   "cell_type": "code",
   "execution_count": null,
   "metadata": {},
   "outputs": [],
   "source": []
  },
  {
   "cell_type": "markdown",
   "metadata": {},
   "source": [
    "6. Affichez le feature importance plot"
   ]
  },
  {
   "cell_type": "code",
   "execution_count": null,
   "metadata": {},
   "outputs": [],
   "source": []
  },
  {
   "cell_type": "markdown",
   "metadata": {},
   "source": [
    "## Exercice SVM, K-NearestNeighbors, Naïve-Bayes et les méthodes Stochastiques"
   ]
  },
  {
   "cell_type": "markdown",
   "metadata": {},
   "source": [
    "Suite aux résultats obtenus grâce à Pycaret, essayez d'améliorer le score des SVM en modifiant certains paramètres."
   ]
  },
  {
   "cell_type": "code",
   "execution_count": 35,
   "metadata": {},
   "outputs": [],
   "source": [
    "from sklearn import svm"
   ]
  },
  {
   "cell_type": "code",
   "execution_count": 36,
   "metadata": {},
   "outputs": [],
   "source": [
    "# Codez ici"
   ]
  },
  {
   "cell_type": "markdown",
   "metadata": {},
   "source": [
    "Suite aux résultats obtenus grâce à Pycaret, essayez d'améliorer le score de K-NN en modifiant certains paramètres."
   ]
  },
  {
   "cell_type": "code",
   "execution_count": 37,
   "metadata": {},
   "outputs": [],
   "source": [
    "# Codez ici"
   ]
  },
  {
   "cell_type": "markdown",
   "metadata": {},
   "source": [
    "Suite aux résultats obtenus grâce à Pycaret, essayez d'améliorer le score du modèle Naïve-Bayes en modifiant certains paramètres."
   ]
  },
  {
   "cell_type": "code",
   "execution_count": 38,
   "metadata": {},
   "outputs": [],
   "source": [
    "# Codez ici"
   ]
  },
  {
   "cell_type": "markdown",
   "metadata": {},
   "source": [
    "Faites de même pour les méthodes Stochastiques."
   ]
  },
  {
   "cell_type": "code",
   "execution_count": 39,
   "metadata": {},
   "outputs": [],
   "source": [
    "# Codez ici"
   ]
  }
 ],
 "metadata": {
  "kernelspec": {
   "display_name": "Python 3",
   "language": "python",
   "name": "python3"
  },
  "language_info": {
   "codemirror_mode": {
    "name": "ipython",
    "version": 3
   },
   "file_extension": ".py",
   "mimetype": "text/x-python",
   "name": "python",
   "nbconvert_exporter": "python",
   "pygments_lexer": "ipython3",
   "version": "3.10.12"
  }
 },
 "nbformat": 4,
 "nbformat_minor": 2
}
