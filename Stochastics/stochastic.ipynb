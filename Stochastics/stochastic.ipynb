{
 "cells": [
  {
   "cell_type": "markdown",
   "metadata": {},
   "source": [
    "# Démonstration de l'efficacité de la méthode stochastique "
   ]
  },
  {
   "cell_type": "code",
   "execution_count": 1,
   "metadata": {},
   "outputs": [],
   "source": [
    "import pandas as pd\n",
    "import numpy as np\n",
    "import matplotlib.pyplot as plt\n",
    "from sklearn.datasets import fetch_california_housing\n",
    "from sklearn.linear_model import SGDRegressor\n",
    "from sklearn.metrics import mean_squared_error, mean_absolute_error\n",
    "from sklearn.model_selection import cross_validate, cross_val_score, train_test_split, ShuffleSplit, validation_curve\n",
    "from sklearn.pipeline import Pipeline\n",
    "from sklearn.preprocessing import StandardScaler"
   ]
  },
  {
   "cell_type": "code",
   "execution_count": 2,
   "metadata": {},
   "outputs": [],
   "source": [
    "np.random.seed(306)"
   ]
  },
  {
   "cell_type": "markdown",
   "metadata": {},
   "source": [
    "On utilise la fonction ShuffleSplit comme stratégie de cross validation."
   ]
  },
  {
   "cell_type": "code",
   "execution_count": 3,
   "metadata": {},
   "outputs": [],
   "source": [
    "shuffle_split_cv = ShuffleSplit(n_splits=10, test_size=0.2, random_state=0)"
   ]
  },
  {
   "cell_type": "markdown",
   "metadata": {},
   "source": [
    "On charge les données et on les sépare pour le training et le test."
   ]
  },
  {
   "cell_type": "code",
   "execution_count": 4,
   "metadata": {},
   "outputs": [],
   "source": [
    "features, labels = fetch_california_housing(as_frame=True, return_X_y=True)\n",
    "com_train_features, test_features, com_train_labels, test_labels = train_test_split(features, labels, random_state=42)"
   ]
  },
  {
   "cell_type": "markdown",
   "metadata": {},
   "source": [
    "On divise les données dans les train et dev sets"
   ]
  },
  {
   "cell_type": "code",
   "execution_count": 5,
   "metadata": {},
   "outputs": [],
   "source": [
    "train_features, dev_features, train_labels, dev_labels = train_test_split(com_train_features, com_train_labels, random_state=42)"
   ]
  },
  {
   "cell_type": "markdown",
   "metadata": {},
   "source": [
    "Pour résumer, une stratégie de cross-validation est définie à l'aide de ShuffleSplit, et les données sont divisées en ensembles d'entraînement, de développement et de test."
   ]
  },
  {
   "cell_type": "markdown",
   "metadata": {},
   "source": [
    "## SGD Regressor\n",
    "\n",
    "#### Etape 1 : Pour commencer, nous instancions un modèle SGDRegressor comme baseline avec des paramètres par défaut.\n",
    "#### Etape 2 : On entraîne le modèle avec les matrices et les instances des training features.\n",
    "#### Etape 3 : On obtient le score sur les données du training et developp"
   ]
  },
  {
   "cell_type": "code",
   "execution_count": 6,
   "metadata": {},
   "outputs": [
    {
     "name": "stdout",
     "output_type": "stream",
     "text": [
      "Erreur moyenne absolue sur le Training set :  312747257037604.56\n",
      "Erreur moyenne absolue sur le Dev set :  315884696981612.4\n"
     ]
    }
   ],
   "source": [
    "sgd = SGDRegressor(random_state=42)\n",
    "sgd.fit(train_features, train_labels)\n",
    "\n",
    "train_mae = mean_absolute_error(train_labels, sgd.predict(train_features))\n",
    "dev_mae = mean_absolute_error(dev_labels, sgd.predict(dev_features))\n",
    "print (\"Erreur moyenne absolue sur le Training set : \", train_mae)\n",
    "print (\"Erreur moyenne absolue sur le Dev set : \", dev_mae)"
   ]
  },
  {
   "cell_type": "markdown",
   "metadata": {},
   "source": [
    "Les performances du modèle de base sont évaluées en termes d'erreur moyenne absolue sur les ensembles d'entraînement et de développement."
   ]
  },
  {
   "cell_type": "markdown",
   "metadata": {},
   "source": [
    "On observe que la MAE est trop forte. Le modèle de base ne s'entraîne pas correctement. On va donc entrainer le modèle étape par étape et en enregistrant les pertes du training à chaque étape."
   ]
  },
  {
   "cell_type": "markdown",
   "metadata": {},
   "source": [
    "# Ajouter une étape de feature scaling"
   ]
  },
  {
   "cell_type": "code",
   "execution_count": 7,
   "metadata": {},
   "outputs": [
    {
     "name": "stdout",
     "output_type": "stream",
     "text": [
      "MAE sur le Training set :  0.7120658904697411\n",
      "MAE sur le Dev set :  0.980422924207352\n"
     ]
    }
   ],
   "source": [
    "sgd_pipeline = Pipeline([(\"feature_scaling\", StandardScaler()),\n",
    "                         (\"sgd\", SGDRegressor())])\n",
    "sgd_pipeline.fit(train_features, train_labels)\n",
    "\n",
    "train_mae = mean_absolute_error(train_labels, sgd_pipeline.predict(train_features))\n",
    "dev_mae = mean_absolute_error(dev_labels, sgd_pipeline.predict(dev_features))\n",
    "\n",
    "print (\"MAE sur le Training set : \", train_mae)\n",
    "print (\"MAE sur le Dev set : \", dev_mae)"
   ]
  },
  {
   "cell_type": "markdown",
   "metadata": {},
   "source": [
    "Un pipeline est créé avec une étape de mise à l'échelle des caractéristiques avant le modèle SGDRegressor, puis le pipeline est entraîné sur les données d'entraînement."
   ]
  },
  {
   "cell_type": "markdown",
   "metadata": {},
   "source": [
    "On remarque une erreur toujours élevée sur le training set"
   ]
  },
  {
   "cell_type": "code",
   "execution_count": null,
   "metadata": {},
   "outputs": [],
   "source": [
    "eta0 = 1e-2\n",
    "sgd_pipeline = Pipeline([(\"feature_scaling\", StandardScaler()),\n",
    "                         (\"SGD\", SGDRegressor(max_iter=1, tol=1e-3,\n",
    "                                              warm_start=True,\n",
    "                                              random_state=42))])\n",
    "\n",
    "loss = []\n",
    "for epoch in range(100):\n",
    "    sgd_pipeline.fit(train_features, train_labels)\n",
    "    loss.append(mean_squared_error(train_labels, sgd_pipeline.predict(train_features)))\n",
    "\n",
    "plt.plot(np.arange(len(loss)), loss, 'b-')\n",
    "plt.xlabel('Iterations')\n",
    "plt.ylabel('MSE')\n",
    "plt.title(f'Learning curve: eta0={eta0:.4f}')"
   ]
  },
  {
   "cell_type": "markdown",
   "metadata": {},
   "source": [
    "Le modèle SGDRegressor est entraîné étape par étape, et les pertes sur l'ensemble d'entraînement sont enregistrées pour visualisation."
   ]
  },
  {
   "cell_type": "markdown",
   "metadata": {},
   "source": [
    "La perte réduit au départ puis augmente, ce qui peut s'expliquer par des taux d'apprentissage trop larges. Nous allons réduire le learning rate par un facteur 10."
   ]
  },
  {
   "cell_type": "code",
   "execution_count": null,
   "metadata": {},
   "outputs": [],
   "source": [
    "eta0 = 1e-3\n",
    "sgd_pipeline = Pipeline([(\"feature_scaling\", StandardScaler()),\n",
    "                         (\"SGD\", SGDRegressor(max_iter=1, tol=1e-3,\n",
    "                                              warm_start=True, eta0=eta0,\n",
    "                                              random_state=42))])\n",
    "\n",
    "loss = []\n",
    "for epoch in range(100):\n",
    "    sgd_pipeline.fit(train_features, train_labels)\n",
    "    loss.append(mean_squared_error(train_labels, sgd_pipeline.predict(train_features)))\n",
    "\n",
    "plt.plot(np.arange(len(loss)), loss, 'b-')\n",
    "plt.xlabel('Iterations')\n",
    "plt.ylabel('MSE')\n",
    "plt.title(f'Learning curve: eta0={eta0:.4f}')"
   ]
  },
  {
   "cell_type": "markdown",
   "metadata": {},
   "source": [
    "Le taux d'apprentissage est réduit par un facteur de 10 pour observer son impact sur la courbe d'apprentissage."
   ]
  },
  {
   "cell_type": "code",
   "execution_count": 10,
   "metadata": {},
   "outputs": [
    {
     "name": "stdout",
     "output_type": "stream",
     "text": [
      "Iterations avant d'atteindre le critère de convergence :  1\n",
      "Weight updates :  11611.0\n"
     ]
    }
   ],
   "source": [
    "print (\"Iterations avant d'atteindre le critère de convergence : \", sgd_pipeline[-1].n_iter_)\n",
    "print (\"Weight updates : \", sgd_pipeline[-1].t_)"
   ]
  },
  {
   "cell_type": "code",
   "execution_count": 11,
   "metadata": {},
   "outputs": [
    {
     "name": "stdout",
     "output_type": "stream",
     "text": [
      "MAE sur le training set :  0.5333732983042573\n",
      "MAE sur le Dev set :  0.5190150280908042\n"
     ]
    }
   ],
   "source": [
    "train_mae = mean_absolute_error(train_labels, sgd_pipeline.predict(train_features))\n",
    "dev_mae = mean_absolute_error(dev_labels, sgd_pipeline.predict(dev_features))\n",
    "print (\"MAE sur le training set : \", train_mae)\n",
    "print (\"MAE sur le Dev set : \", dev_mae)"
   ]
  },
  {
   "cell_type": "markdown",
   "metadata": {},
   "source": [
    "# Fixer le learning rate grâce à des courbes de validation"
   ]
  },
  {
   "cell_type": "code",
   "execution_count": null,
   "metadata": {},
   "outputs": [],
   "source": [
    "%%time\n",
    "eta0 = [1e-5, 1e-4, 1e-3, 1e-2]\n",
    "train_score, test_score = validation_curve(\n",
    "    sgd_pipeline, com_train_features, com_train_labels, param_name='SGD__eta0',\n",
    "    param_range=eta0, cv=shuffle_split_cv, scoring=\"neg_mean_squared_error\",\n",
    "    n_jobs=2)\n",
    "train_errors, test_errors = -train_score, -test_score"
   ]
  },
  {
   "cell_type": "markdown",
   "metadata": {},
   "source": [
    "Une courbe de validation est tracée pour sélectionner le meilleur taux d'apprentissage."
   ]
  },
  {
   "cell_type": "code",
   "execution_count": 13,
   "metadata": {},
   "outputs": [
    {
     "data": {
      "image/png": "[encoded data removed]",
      "text/plain": [
       "<Figure size 640x480 with 1 Axes>"
      ]
     },
     "metadata": {},
     "output_type": "display_data"
    }
   ],
   "source": [
    "train_errors, test_errors = -train_score, -test_score\n",
    "plt.plot(eta0, train_errors.mean(axis=1), 'b-x', label=\"Training error\")\n",
    "plt.plot(eta0, test_errors.mean(axis=1), 'r-x', label=\"Test error\")\n",
    "plt.legend()\n",
    "\n",
    "plt.xlabel(\"eta0\")\n",
    "plt.ylabel(\"Mean absolute error (k$)\")\n",
    "_ = plt.title(\"Validation curve pour  SGD\")"
   ]
  },
  {
   "cell_type": "code",
   "execution_count": 14,
   "metadata": {},
   "outputs": [
    {
     "data": {
      "image/png": "[encoded data removed]",
      "text/plain": [
       "<Figure size 640x480 with 1 Axes>"
      ]
     },
     "metadata": {},
     "output_type": "display_data"
    }
   ],
   "source": [
    "plt.errorbar(eta0, train_errors.mean(axis=1),\n",
    "             yerr=train_errors.std(axis=1), label='Training error')\n",
    "plt.errorbar(eta0, test_errors.mean(axis=1),\n",
    "             yerr=test_errors.std(axis=1), label='Testing error')\n",
    "plt.legend()\n",
    "\n",
    "plt.xlabel(\"eta0\")\n",
    "plt.ylabel(\"Mean absolute error (k$)\")\n",
    "_ = plt.title(\"Validation curve pour SGD\")"
   ]
  },
  {
   "cell_type": "code",
   "execution_count": 15,
   "metadata": {},
   "outputs": [
    {
     "name": "stdout",
     "output_type": "stream",
     "text": [
      "MAE sur le Training set :  0.5433287489797833\n",
      "MAE sur le Dev set :  0.5345612073911921\n"
     ]
    }
   ],
   "source": [
    "sgd_pipeline = Pipeline([(\"feature_scaling\", StandardScaler()),\n",
    "                         (\"sgd\", SGDRegressor(max_iter=500,\n",
    "                                              early_stopping=True,\n",
    "                                              eta0=1e-3,\n",
    "                                              tol=1e-3,\n",
    "                                              validation_fraction=0.2,\n",
    "                                              n_iter_no_change=5,\n",
    "                                              average=10,\n",
    "                                              random_state=42))])\n",
    "sgd_pipeline.fit(train_features, train_labels)\n",
    "\n",
    "train_mae = mean_absolute_error(train_labels, sgd_pipeline.predict(train_features))\n",
    "dev_mae = mean_absolute_error(dev_labels, sgd_pipeline.predict(dev_features))\n",
    "\n",
    "print(\"MAE sur le Training set : \", train_mae)\n",
    "print(\"MAE sur le Dev set : \", dev_mae)"
   ]
  },
  {
   "cell_type": "code",
   "execution_count": 16,
   "metadata": {},
   "outputs": [
    {
     "name": "stdout",
     "output_type": "stream",
     "text": [
      "Nombre d'itérations du SGD :  35\n",
      "Nombre de weight updates :  406351.0\n"
     ]
    }
   ],
   "source": [
    "print(\"Nombre d'itérations du SGD : \", sgd_pipeline[-1].n_iter_)\n",
    "print(\"Nombre de weight updates : \", sgd_pipeline[-1].t_)"
   ]
  },
  {
   "cell_type": "code",
   "execution_count": 17,
   "metadata": {},
   "outputs": [
    {
     "name": "stdout",
     "output_type": "stream",
     "text": [
      "MAE sur le Training set :  0.5528203432984674\n",
      "MAE sur le Dev set :  0.5689568216133665\n",
      "Nombre d'itérations du SGD :  11\n",
      "Nombre de weight updates :  127711.0\n"
     ]
    }
   ],
   "source": [
    "sgd_pipeline = Pipeline([(\"feature_scaling\", StandardScaler()),\n",
    "                         (\"sgd\", SGDRegressor(max_iter=500,\n",
    "                                              early_stopping=True,\n",
    "                                              eta0=1e-3,\n",
    "                                              tol=1e-3,\n",
    "                                              learning_rate=\"constant\",\n",
    "                                              validation_fraction=0.2,\n",
    "                                              n_iter_no_change=5,\n",
    "                                              average=10,\n",
    "                                              random_state=42))])\n",
    "sgd_pipeline.fit(train_features, train_labels)\n",
    "\n",
    "train_mae = mean_absolute_error(train_labels, sgd_pipeline.predict(train_features))\n",
    "dev_mae = mean_absolute_error(dev_labels, sgd_pipeline.predict(dev_features))\n",
    "\n",
    "print(\"MAE sur le Training set : \", train_mae)\n",
    "print(\"MAE sur le Dev set : \", dev_mae)\n",
    "\n",
    "print(\"Nombre d'itérations du SGD : \", sgd_pipeline[-1].n_iter_)\n",
    "print(\"Nombre de weight updates : \", sgd_pipeline[-1].t_)"
   ]
  },
  {
   "cell_type": "markdown",
   "metadata": {},
   "source": [
    "Le modèle final est entraîné avec le meilleur taux d'apprentissage sélectionné."
   ]
  },
  {
   "cell_type": "code",
   "execution_count": 18,
   "metadata": {},
   "outputs": [
    {
     "name": "stdout",
     "output_type": "stream",
     "text": [
      "MAE sur le Training set :  0.5375525445454805\n",
      "MAE sur le Dev set :  0.520025474075991\n",
      "Nombre d'itérations du SGD :  40\n",
      "Nombre de weight updates :  464401.0\n"
     ]
    }
   ],
   "source": [
    "sgd_pipeline = Pipeline([(\"feature_scaling\", StandardScaler()),\n",
    "                         (\"sgd\", SGDRegressor(max_iter=500,\n",
    "                                              early_stopping=True,\n",
    "                                              eta0=1e-3,\n",
    "                                              tol=1e-3,\n",
    "                                              learning_rate=\"adaptive\",\n",
    "                                              validation_fraction=0.2,\n",
    "                                              n_iter_no_change=5,\n",
    "                                              average=10,\n",
    "                                              random_state=42))])\n",
    "sgd_pipeline.fit(train_features, train_labels)\n",
    "\n",
    "train_mae = mean_absolute_error(train_labels, sgd_pipeline.predict(train_features))\n",
    "dev_mae = mean_absolute_error(dev_labels, sgd_pipeline.predict(dev_features))\n",
    "\n",
    "print(\"MAE sur le Training set : \", train_mae)\n",
    "print(\"MAE sur le Dev set : \", dev_mae)\n",
    "\n",
    "print(\"Nombre d'itérations du SGD : \", sgd_pipeline[-1].n_iter_)\n",
    "print(\"Nombre de weight updates : \", sgd_pipeline[-1].t_)"
   ]
  },
  {
   "cell_type": "markdown",
   "metadata": {},
   "source": [
    "Les performances du modèle final sont évaluées sur les ensembles d'entraînement et de développement."
   ]
  }
 ],
 "metadata": {
  "kernelspec": {
   "display_name": "base",
   "language": "python",
   "name": "python3"
  },
  "language_info": {
   "codemirror_mode": {
    "name": "ipython",
    "version": 3
   },
   "file_extension": ".py",
   "mimetype": "text/x-python",
   "name": "python",
   "nbconvert_exporter": "python",
   "pygments_lexer": "ipython3",
   "version": "3.11.5"
  }
 },
 "nbformat": 4,
 "nbformat_minor": 2
}
