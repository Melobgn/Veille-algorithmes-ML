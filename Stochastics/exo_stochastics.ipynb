{
 "cells": [
  {
   "cell_type": "markdown",
   "metadata": {},
   "source": [
    "## Fiche Explicative sur SGDClassifier et SGDRegressor\n",
    "\n",
    "### 1. Intuition sur la Fonction Coût et le Fonctionnement Théorique\n",
    "\n",
    "Fonction Coût : La fonction coût mesure l'écart entre les prédictions du modèle et les valeurs réelles. En utilisant la descente de gradient stochastique, les modèles SGDClassifier et SGDRegressor cherchent à minimiser cette fonction coût en ajustant itérativement les poids du modèle.\n",
    "\n",
    "Fonctionnement : La descente de gradient stochastique effectue des mises à jour de poids à chaque itération en utilisant un seul exemple d'entraînement à la fois. Cela permet une convergence plus rapide et une meilleure adaptabilité aux variations dans les données.\n",
    "\n",
    "\n",
    "### 2. Stratégie pour les Hyperparamètres\n",
    "\n",
    "#### a. Hyperparamètres Importants\n",
    "\n",
    "max_iter : Nombre maximal d'itérations. Il doit être suffisamment grand pour permettre la convergence.\n",
    "\n",
    "eta0 : Taux d'apprentissage initial. Il influence la taille des pas de mise à jour des poids.\n",
    "\n",
    "alpha : Terme de régularisation. Contrôle la complexité du modèle.\n",
    "\n",
    "\n",
    "#### b. Ordres de Grandeur\n",
    "\n",
    "max_iter : Typiquement entre 100 et 1000.\n",
    "\n",
    "eta0 : Ordre de grandeur de 0.01 à 0.1.\n",
    "\n",
    "alpha : Dépend du niveau de régularisation souhaité, peut varier de 0.0001 à 0.1.\n",
    "\n",
    "\n",
    "#### c. Cas Spécifiques\n",
    "\n",
    "Régression : Pour les tâches de régression, privilégiez la convergence rapide avec des valeurs modérées de max_iter et d'eta0.\n",
    "\n",
    "Classification : Pour les tâches de classification, augmentez potentiellement max_iter pour des modèles plus complexes et ajustez alpha pour contrôler la régularisation.\n",
    "\n",
    "\n",
    "### 3. Implémentation\n",
    "\n",
    "#### a. Exemple d'Implémentation\n"
   ]
  },
  {
   "cell_type": "markdown",
   "metadata": {},
   "source": [
    "SGD Regressor"
   ]
  },
  {
   "cell_type": "code",
   "execution_count": null,
   "metadata": {},
   "outputs": [],
   "source": [
    "from sklearn.linear_model import SGDRegressor\n",
    "sgd_regressor = SGDRegressor(max_iter=1000, eta0=0.01, alpha=0.0001, random_state=42)\n",
    "sgd_regressor.fit(X_train, y_train)"
   ]
  },
  {
   "cell_type": "markdown",
   "metadata": {},
   "source": [
    "SGD Classifier"
   ]
  },
  {
   "cell_type": "code",
   "execution_count": null,
   "metadata": {},
   "outputs": [],
   "source": [
    "from sklearn.linear_model import SGDClassifier\n",
    "sgd_classifier = SGDClassifier(max_iter=1000, eta0=0.01, alpha=0.0001, random_state=42)\n",
    "sgd_classifier.fit(X_train, y_train)"
   ]
  },
  {
   "cell_type": "markdown",
   "metadata": {},
   "source": [
    "### 4. Trucs et Astuces d'Utilisation\n",
    "Surveillance de la Convergence : Utilisez partial_fit pour surveiller la convergence au fil du temps, particulièrement utile pour des ensembles de données volumineux.\n",
    "\n",
    "Normalisation : Considérez la normalisation des caractéristiques, ce qui peut améliorer la convergence.\n",
    "\n",
    "Choix de la Taille du Mini-Batch : Expérimentez avec différentes tailles de mini-batch pour trouver le bon équilibre entre efficacité et convergence rapide.\n",
    "\n",
    "\n",
    "### 5. Conclusion\n",
    "En utilisant les modèles SGDClassifier et SGDRegressor, nous bénéficions de la rapidité de convergence et de l'adaptabilité des méthodes stochastiques. En ajustant soigneusement les hyperparamètres, surveillant la convergence, et en expérimentant avec différentes tailles de mini-batch, nous pouvons maximiser l'efficacité de ces modèles dans une variété de tâches en apprentissage automatique.\n"
   ]
  },
  {
   "cell_type": "markdown",
   "metadata": {},
   "source": [
    "## Documentation des modèles \n",
    "\n",
    "https://scikit-learn.org/stable/modules/generated/sklearn.linear_model.SGDRegressor.html#sklearn.linear_model.SGDRegressor\n",
    "\n",
    "https://scikit-learn.org/stable/modules/generated/sklearn.linear_model.SGDClassifier.html#sklearn.linear_model.SGDClassifier\n",
    "\n"
   ]
  }
 ],
 "metadata": {
  "kernelspec": {
   "display_name": "base",
   "language": "python",
   "name": "python3"
  },
  "language_info": {
   "name": "python",
   "version": "3.11.5"
  }
 },
 "nbformat": 4,
 "nbformat_minor": 2
}
